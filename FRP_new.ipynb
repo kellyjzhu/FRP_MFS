{
 "cells": [
  {
   "cell_type": "code",
   "execution_count": null,
   "metadata": {},
   "outputs": [],
   "source": [
    "months = [\"03\",\"06\",\"09\",\"12\"]\n",
    "years = 1989:2020\n",
    "dates = []\n",
    "for month in months:\n",
    "    for year in years:\n",
    "        date = str(year)+month+ str(29)\n",
    "        dates.append(date)\n",
    "for date in dates:\n",
    "    data = pd.read_excel(\"mfs1\" + str(date)+\".xlsx\")"
   ]
  }
 ],
 "metadata": {
  "kernelspec": {
   "display_name": "Python 3",
   "language": "python",
   "name": "python3"
  },
  "language_info": {
   "codemirror_mode": {
    "name": "ipython",
    "version": 3
   },
   "file_extension": ".py",
   "mimetype": "text/x-python",
   "name": "python",
   "nbconvert_exporter": "python",
   "pygments_lexer": "ipython3",
   "version": "3.7.1"
  }
 },
 "nbformat": 4,
 "nbformat_minor": 2
}
