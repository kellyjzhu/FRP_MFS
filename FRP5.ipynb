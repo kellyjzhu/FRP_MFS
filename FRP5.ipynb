{
 "cells": [
  {
   "cell_type": "code",
   "execution_count": 13,
   "metadata": {},
   "outputs": [],
   "source": [
    "import pandas as pd\n",
    "import numpy as np"
   ]
  },
  {
   "cell_type": "code",
   "execution_count": 14,
   "metadata": {},
   "outputs": [],
   "source": [
    "company = pd.read_csv('company.csv')\n",
    "company.rename(columns = {'datadate':'qdate'}, inplace = True)\n",
    "company['qdate'] = pd.to_datetime(company['qdate'], format='%Y%m%d').dt.strftime('%Y%m%d')"
   ]
  },
  {
   "cell_type": "code",
   "execution_count": 15,
   "metadata": {},
   "outputs": [],
   "source": [
    "ratios = pd.read_csv('ratios.csv')\n",
    "ratios = ratios.drop(columns='public_date')\n",
    "ratios = ratios.drop_duplicates()\n",
    "ratios['qdate'] = pd.to_datetime(ratios['qdate'], format='%Y%m%d').dt.strftime('%Y%m%d')\n",
    "ratios['adate'] = pd.to_datetime(ratios['adate'], format='%Y%m%d').dt.strftime('%Y%m%d')"
   ]
  },
  {
   "cell_type": "code",
   "execution_count": 16,
   "metadata": {
    "scrolled": true
   },
   "outputs": [],
   "source": [
    "data = company.merge(ratios, on=['gvkey', 'qdate'])\n",
    "name = np.array(['gvkey', 'qtr_date', 'fyear', 'fquarter', 'ticker', 'cusip', 'conpany_name', 'c_quarter',\n",
    "       'f_qtr', 'sh_equity', 'total_sh_equity', 'exchange', 'mkt_val', 'group', 'industry', 'ann_date', 'roa', 'roe', 'd/a', 'D/A',\n",
    "       'debt/capital', 'D/E', 'aft_tax_int_cov', 'int_cov_ratio'])\n",
    "data.columns = name\n",
    "data = data.drop(columns='fyear')\n",
    "data = data.drop(columns='fquarter')"
   ]
  },
  {
   "cell_type": "code",
   "execution_count": 17,
   "metadata": {},
   "outputs": [],
   "source": [
    "data.to_csv (r'data0115.csv', index = None, header=True)"
   ]
  }
 ],
 "metadata": {
  "kernelspec": {
   "display_name": "Python 3",
   "language": "python",
   "name": "python3"
  },
  "language_info": {
   "codemirror_mode": {
    "name": "ipython",
    "version": 3
   },
   "file_extension": ".py",
   "mimetype": "text/x-python",
   "name": "python",
   "nbconvert_exporter": "python",
   "pygments_lexer": "ipython3",
   "version": "3.7.4"
  }
 },
 "nbformat": 4,
 "nbformat_minor": 2
}
