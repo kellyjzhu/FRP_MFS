{
 "cells": [
  {
   "cell_type": "markdown",
   "metadata": {},
   "source": [
    "# Finance Research Practicum Python Diagnostic"
   ]
  },
  {
   "cell_type": "markdown",
   "metadata": {},
   "source": [
    "This is a basic Python diagnostic designed to assess your familiarity with Python. You will also likely come across similar problems during FRP. Feel free to use online resources or any other materials, but it’s highly advised you work on this."
   ]
  },
  {
   "cell_type": "markdown",
   "metadata": {},
   "source": [
    "## Part 0: Set up"
   ]
  },
  {
   "cell_type": "markdown",
   "metadata": {},
   "source": [
    "Import necessary Libraries"
   ]
  },
  {
   "cell_type": "code",
   "execution_count": null,
   "metadata": {},
   "outputs": [],
   "source": [
    "# If it is the first time, you may need to install the necessary packages\n",
    "!pip install pandas"
   ]
  },
  {
   "cell_type": "code",
   "execution_count": null,
   "metadata": {},
   "outputs": [],
   "source": [
    "import pandas as pd\n",
    "import numpy as np\n",
    "import os\n",
    "import statsmodels.api as sm\n",
    "# ..."
   ]
  },
  {
   "cell_type": "markdown",
   "metadata": {},
   "source": [
    "## Part 1: Working with Data"
   ]
  },
  {
   "cell_type": "markdown",
   "metadata": {},
   "source": [
    "A large amount of time will be spent cleansing and manipulating data. This part will assess your familiarity in manipulating data types and creating new ones.\n",
    "1. Please download daily data of the S&P500, Seasonally Adjusted Quarterly GDP Growth and the 10-Year Constant Maturity Rate from 2009-01-01. Load both datasets into Python. Links to both are below:\n",
    "\n",
    "\n",
    "- https://fred.stlouisfed.org/series/DGS10\n",
    "- https://fred.stlouisfed.org/series/SP500\n",
    "- https://fred.stlouisfed.org/series/A191RP1Q027SBEA\n"
   ]
  },
  {
   "cell_type": "code",
   "execution_count": null,
   "metadata": {},
   "outputs": [],
   "source": [
    "### Load Dataset here\n",
    "DATA_DIR = \n",
    "df_DGS10 = \n",
    "df_SP500 = \n",
    "df_GDP = "
   ]
  },
  {
   "cell_type": "code",
   "execution_count": null,
   "metadata": {},
   "outputs": [],
   "source": [
    "df_DGS10.head()"
   ]
  },
  {
   "cell_type": "code",
   "execution_count": null,
   "metadata": {},
   "outputs": [],
   "source": [
    "df_SP500.head()"
   ]
  },
  {
   "cell_type": "code",
   "execution_count": null,
   "metadata": {},
   "outputs": [],
   "source": [
    "df_GDP.head()"
   ]
  },
  {
   "cell_type": "markdown",
   "metadata": {},
   "source": [
    "2.\tThis data needs to be cleansed. Some days have a price level “.” which causes Python to read this column as an object type instead of numeric. Please:\n",
    "\n",
    "\n",
    "- Remove all rows with price “.” in the DGS10 & SP500 datasets\n",
    "\n",
    "- Reformat all price columns to type numeric\n",
    "\n",
    "- Rescale the GDP dataset’s returns to be in real levels (divide everything by 100)\n",
    "\n",
    "- Rename the second column of the GDP dataset to “GDPReturn”\n"
   ]
  },
  {
   "cell_type": "code",
   "execution_count": null,
   "metadata": {},
   "outputs": [],
   "source": [
    "# Remove all rows with price “.” in the DGS10 & SP500 datasets\n"
   ]
  },
  {
   "cell_type": "code",
   "execution_count": null,
   "metadata": {},
   "outputs": [],
   "source": [
    "# Reformat all price columns to type numeric\n"
   ]
  },
  {
   "cell_type": "code",
   "execution_count": null,
   "metadata": {},
   "outputs": [],
   "source": [
    "# Rescale the GDP dataset’s returns to be in real levels (divide everything by 100)\n"
   ]
  },
  {
   "cell_type": "code",
   "execution_count": null,
   "metadata": {},
   "outputs": [],
   "source": [
    "# Rename the second column of the GDP dataset to “GDPReturn”\n"
   ]
  },
  {
   "cell_type": "markdown",
   "metadata": {},
   "source": [
    "3.\tIt’s not a good idea to work with level data, so let’s transform the data. Please compute the daily returns of both the S&P and 10 Yr CMT and create a new column called “SP_Return” and “CMT_Return” respectively. The first row’s return should be NA."
   ]
  },
  {
   "cell_type": "code",
   "execution_count": null,
   "metadata": {},
   "outputs": [],
   "source": []
  },
  {
   "cell_type": "markdown",
   "metadata": {},
   "source": [
    "4.\tMerge the two dataframes together into a master data frame. Please only keep rows where both dataframes have price data for. Also remove the first row since there is no return data here\n"
   ]
  },
  {
   "cell_type": "code",
   "execution_count": null,
   "metadata": {},
   "outputs": [],
   "source": [
    "df_master = "
   ]
  },
  {
   "cell_type": "markdown",
   "metadata": {},
   "source": [
    "5.\tYou’ll notice we have a period mismatch; quarterly returns for GDP but daily for S&P and CMT. Please create a final table containing quarterly GDP and quarterly S&P & CMT returns. Use dates according to the quarterly GDP dataset. Also remove the first row since there is no return data here\n",
    "\n"
   ]
  },
  {
   "cell_type": "code",
   "execution_count": null,
   "metadata": {},
   "outputs": [],
   "source": [
    "df_master_Q = "
   ]
  },
  {
   "cell_type": "markdown",
   "metadata": {},
   "source": [
    "## Part 2: Understanding your data"
   ]
  },
  {
   "cell_type": "markdown",
   "metadata": {},
   "source": [
    "1.\tProvide the following information:\n",
    "\n",
    "\n",
    "- Min, Max, 1st & 3rd quartile, Mean, Median of both return columns\n",
    "- Which days did the Max/Min returns occur for both columns?\n",
    "- Bonus points: What happened on these days to justify the returns?\n",
    "- Correlations between both\n",
    "- Standard deviation of both columns\n"
   ]
  },
  {
   "cell_type": "code",
   "execution_count": null,
   "metadata": {},
   "outputs": [],
   "source": [
    "# Min, Max, 1st & 3rd quartile, Mean, Median of both return columns\n"
   ]
  },
  {
   "cell_type": "code",
   "execution_count": null,
   "metadata": {},
   "outputs": [],
   "source": [
    "# Which days did the Max/Min returns occur for both columns?\n",
    "\n",
    "# Bonus points: What happened on these days to justify the returns?"
   ]
  },
  {
   "cell_type": "code",
   "execution_count": null,
   "metadata": {},
   "outputs": [],
   "source": [
    "# Correlations between both\n"
   ]
  },
  {
   "cell_type": "code",
   "execution_count": null,
   "metadata": {},
   "outputs": [],
   "source": [
    "# Standard deviation of both columns\n"
   ]
  },
  {
   "cell_type": "markdown",
   "metadata": {},
   "source": [
    "## Part 3: Modelling & Analytics"
   ]
  },
  {
   "cell_type": "markdown",
   "metadata": {},
   "source": [
    "1.\tLet’s see if there is any predictability between the two columns. Please run a regression, the explanatory variable (X) is the CMT return. The response variable (Y) is the SP’s return. Include an intercept term as well! Please assign your regression results to a variable as well.\n",
    "\n",
    "\n",
    "- Provide the coefficients\n",
    "- Run a t-test and provide t-statistics on both coefficients (and p-values)\n",
    "- What about R squared, Adjusted R Squared?\n",
    "- Run an F-test and provide the F-statistic along with P-values\n"
   ]
  },
  {
   "cell_type": "code",
   "execution_count": null,
   "metadata": {},
   "outputs": [],
   "source": []
  },
  {
   "cell_type": "markdown",
   "metadata": {},
   "source": [
    "2.\tFrom a 90% and 95% significance level, can bond returns explain the S&P?"
   ]
  },
  {
   "cell_type": "code",
   "execution_count": null,
   "metadata": {},
   "outputs": [],
   "source": [
    "# 90% is ok, 95% is not"
   ]
  },
  {
   "cell_type": "markdown",
   "metadata": {},
   "source": [
    "3.\tIs the regression model suitable for modelling this phenomena compared to just an intercept term? (Hint: F-Test)"
   ]
  },
  {
   "cell_type": "code",
   "execution_count": null,
   "metadata": {},
   "outputs": [],
   "source": [
    "# Yes."
   ]
  },
  {
   "cell_type": "markdown",
   "metadata": {},
   "source": [
    "4. Now run a regression where the explanatory variable (X) is the CMT return and GDP growth. The response variable (Y) is the SP’s return. Your regression will be on a quarterly basis. Include an intercept term as well! "
   ]
  },
  {
   "cell_type": "code",
   "execution_count": null,
   "metadata": {},
   "outputs": [],
   "source": []
  }
 ],
 "metadata": {
  "kernelspec": {
   "display_name": "Python 3",
   "language": "python",
   "name": "python3"
  },
  "language_info": {
   "codemirror_mode": {
    "name": "ipython",
    "version": 3
   },
   "file_extension": ".py",
   "mimetype": "text/x-python",
   "name": "python",
   "nbconvert_exporter": "python",
   "pygments_lexer": "ipython3",
   "version": "3.7.3"
  }
 },
 "nbformat": 4,
 "nbformat_minor": 2
}
